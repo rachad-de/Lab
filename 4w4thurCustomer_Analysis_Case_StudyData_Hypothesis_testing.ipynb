{
 "cells": [
  {
   "cell_type": "code",
   "execution_count": null,
   "id": "8970f88e",
   "metadata": {},
   "outputs": [],
   "source": []
  },
  {
   "cell_type": "code",
   "execution_count": null,
   "id": "bbeb6fc0",
   "metadata": {},
   "outputs": [],
   "source": []
  },
  {
   "cell_type": "code",
   "execution_count": null,
   "id": "60245e06",
   "metadata": {},
   "outputs": [],
   "source": [
    "import numpy as np\n",
    "import pandas as pd\n",
    "import scipy.stats as stats\n",
    "import matplotlib.pyplot as plt\n",
    "import seaborn as sns\n",
    "from math import sqrt"
   ]
  },
  {
   "cell_type": "code",
   "execution_count": null,
   "id": "2cd97bd5",
   "metadata": {},
   "outputs": [],
   "source": [
    "pop_mean = 120\n",
    "sample_size = 100\n",
    "sample_mean = 130.1  \n",
    "std = 21.21"
   ]
  },
  {
   "cell_type": "code",
   "execution_count": null,
   "id": "9b455061",
   "metadata": {},
   "outputs": [],
   "source": [
    "distr = np.linspace(sample_mean - 3*std, sample_mean + 3*std, 100)\n",
    "plt.plot(distr, stats.norm.pdf(distr, sample_mean, std))\n",
    "plt.axvline(x=pop_mean, color='orange', ls='--', lw=1.5, label='axvline - % of full height')\n",
    "plt.axvline(x=sample_mean, color='#53868B', ls='--' lw=1.5, label='axvline - % of full height')\n",
    "plt.show()"
   ]
  },
  {
   "cell_type": "code",
   "execution_count": null,
   "id": "a2c581f2",
   "metadata": {},
   "outputs": [],
   "source": [
    "tc = 1.660\n",
    "t = (sample_mean - pop_mean)/std*sqrt(100)\n",
    "t > tc"
   ]
  }
 ],
 "metadata": {
  "kernelspec": {
   "display_name": "Python 3 (ipykernel)",
   "language": "python",
   "name": "python3"
  },
  "language_info": {
   "codemirror_mode": {
    "name": "ipython",
    "version": 3
   },
   "file_extension": ".py",
   "mimetype": "text/x-python",
   "name": "python",
   "nbconvert_exporter": "python",
   "pygments_lexer": "ipython3",
   "version": "3.9.12"
  }
 },
 "nbformat": 4,
 "nbformat_minor": 5
}
