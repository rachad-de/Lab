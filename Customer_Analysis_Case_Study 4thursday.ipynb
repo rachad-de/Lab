{
 "cells": [
  {
   "cell_type": "code",
   "execution_count": 3,
   "id": "2991368f",
   "metadata": {},
   "outputs": [
    {
     "data": {
      "text/html": [
       "<div>\n",
       "<style scoped>\n",
       "    .dataframe tbody tr th:only-of-type {\n",
       "        vertical-align: middle;\n",
       "    }\n",
       "\n",
       "    .dataframe tbody tr th {\n",
       "        vertical-align: top;\n",
       "    }\n",
       "\n",
       "    .dataframe thead th {\n",
       "        text-align: right;\n",
       "    }\n",
       "</style>\n",
       "<table border=\"1\" class=\"dataframe\">\n",
       "  <thead>\n",
       "    <tr style=\"text-align: right;\">\n",
       "      <th></th>\n",
       "      <th>region</th>\n",
       "      <th>customer_lifetime_value</th>\n",
       "      <th>response</th>\n",
       "      <th>coverage</th>\n",
       "      <th>education</th>\n",
       "      <th>effective_to_date</th>\n",
       "      <th>month</th>\n",
       "      <th>employment_status</th>\n",
       "      <th>gender</th>\n",
       "      <th>income</th>\n",
       "      <th>...</th>\n",
       "      <th>months_since_policy_inception</th>\n",
       "      <th>number_of_open_complaints</th>\n",
       "      <th>number_of_policies</th>\n",
       "      <th>policy_type</th>\n",
       "      <th>policy</th>\n",
       "      <th>renew_offer_type</th>\n",
       "      <th>sales_channel</th>\n",
       "      <th>total_claim_amount</th>\n",
       "      <th>vehicle_class</th>\n",
       "      <th>vehicle_size</th>\n",
       "    </tr>\n",
       "  </thead>\n",
       "  <tbody>\n",
       "    <tr>\n",
       "      <th>0</th>\n",
       "      <td>central</td>\n",
       "      <td>4809</td>\n",
       "      <td>no</td>\n",
       "      <td>basic</td>\n",
       "      <td>college</td>\n",
       "      <td>2/18/11</td>\n",
       "      <td>feb</td>\n",
       "      <td>employed</td>\n",
       "      <td>m</td>\n",
       "      <td>48029</td>\n",
       "      <td>...</td>\n",
       "      <td>52</td>\n",
       "      <td>0</td>\n",
       "      <td>9</td>\n",
       "      <td>corporate auto</td>\n",
       "      <td>corporate l3</td>\n",
       "      <td>offer3</td>\n",
       "      <td>agent</td>\n",
       "      <td>292</td>\n",
       "      <td>four-door car</td>\n",
       "      <td>medsize</td>\n",
       "    </tr>\n",
       "    <tr>\n",
       "      <th>1</th>\n",
       "      <td>west region</td>\n",
       "      <td>2228</td>\n",
       "      <td>no</td>\n",
       "      <td>basic</td>\n",
       "      <td>college</td>\n",
       "      <td>1/18/11</td>\n",
       "      <td>jan</td>\n",
       "      <td>unemployed</td>\n",
       "      <td>f</td>\n",
       "      <td>92260</td>\n",
       "      <td>...</td>\n",
       "      <td>26</td>\n",
       "      <td>0</td>\n",
       "      <td>1</td>\n",
       "      <td>personal auto</td>\n",
       "      <td>personal l3</td>\n",
       "      <td>offer4</td>\n",
       "      <td>call center</td>\n",
       "      <td>744</td>\n",
       "      <td>four-door car</td>\n",
       "      <td>medsize</td>\n",
       "    </tr>\n",
       "    <tr>\n",
       "      <th>2</th>\n",
       "      <td>east</td>\n",
       "      <td>14947</td>\n",
       "      <td>no</td>\n",
       "      <td>basic</td>\n",
       "      <td>bachelor</td>\n",
       "      <td>2/10/11</td>\n",
       "      <td>feb</td>\n",
       "      <td>employed</td>\n",
       "      <td>m</td>\n",
       "      <td>22139</td>\n",
       "      <td>...</td>\n",
       "      <td>31</td>\n",
       "      <td>0</td>\n",
       "      <td>2</td>\n",
       "      <td>personal auto</td>\n",
       "      <td>personal l3</td>\n",
       "      <td>offer3</td>\n",
       "      <td>call center</td>\n",
       "      <td>480</td>\n",
       "      <td>suv</td>\n",
       "      <td>medsize</td>\n",
       "    </tr>\n",
       "    <tr>\n",
       "      <th>3</th>\n",
       "      <td>north west</td>\n",
       "      <td>22332</td>\n",
       "      <td>yes</td>\n",
       "      <td>extended</td>\n",
       "      <td>college</td>\n",
       "      <td>1/11/11</td>\n",
       "      <td>jan</td>\n",
       "      <td>employed</td>\n",
       "      <td>m</td>\n",
       "      <td>49078</td>\n",
       "      <td>...</td>\n",
       "      <td>3</td>\n",
       "      <td>0</td>\n",
       "      <td>2</td>\n",
       "      <td>corporate auto</td>\n",
       "      <td>corporate l3</td>\n",
       "      <td>offer2</td>\n",
       "      <td>branch</td>\n",
       "      <td>484</td>\n",
       "      <td>four-door car</td>\n",
       "      <td>medsize</td>\n",
       "    </tr>\n",
       "    <tr>\n",
       "      <th>4</th>\n",
       "      <td>north west</td>\n",
       "      <td>9025</td>\n",
       "      <td>no</td>\n",
       "      <td>premium</td>\n",
       "      <td>bachelor</td>\n",
       "      <td>1/17/11</td>\n",
       "      <td>jan</td>\n",
       "      <td>medical leave</td>\n",
       "      <td>f</td>\n",
       "      <td>23675</td>\n",
       "      <td>...</td>\n",
       "      <td>31</td>\n",
       "      <td>0</td>\n",
       "      <td>7</td>\n",
       "      <td>personal auto</td>\n",
       "      <td>personal l2</td>\n",
       "      <td>offer1</td>\n",
       "      <td>branch</td>\n",
       "      <td>707</td>\n",
       "      <td>four-door car</td>\n",
       "      <td>medsize</td>\n",
       "    </tr>\n",
       "    <tr>\n",
       "      <th>...</th>\n",
       "      <td>...</td>\n",
       "      <td>...</td>\n",
       "      <td>...</td>\n",
       "      <td>...</td>\n",
       "      <td>...</td>\n",
       "      <td>...</td>\n",
       "      <td>...</td>\n",
       "      <td>...</td>\n",
       "      <td>...</td>\n",
       "      <td>...</td>\n",
       "      <td>...</td>\n",
       "      <td>...</td>\n",
       "      <td>...</td>\n",
       "      <td>...</td>\n",
       "      <td>...</td>\n",
       "      <td>...</td>\n",
       "      <td>...</td>\n",
       "      <td>...</td>\n",
       "      <td>...</td>\n",
       "      <td>...</td>\n",
       "      <td>...</td>\n",
       "    </tr>\n",
       "    <tr>\n",
       "      <th>10684</th>\n",
       "      <td>central</td>\n",
       "      <td>15563</td>\n",
       "      <td>no</td>\n",
       "      <td>premium</td>\n",
       "      <td>bachelor</td>\n",
       "      <td>1/19/11</td>\n",
       "      <td>jan</td>\n",
       "      <td>unemployed</td>\n",
       "      <td>f</td>\n",
       "      <td>61541</td>\n",
       "      <td>...</td>\n",
       "      <td>40</td>\n",
       "      <td>0</td>\n",
       "      <td>7</td>\n",
       "      <td>personal auto</td>\n",
       "      <td>personal l1</td>\n",
       "      <td>offer3</td>\n",
       "      <td>web</td>\n",
       "      <td>1214</td>\n",
       "      <td>luxury car</td>\n",
       "      <td>medsize</td>\n",
       "    </tr>\n",
       "    <tr>\n",
       "      <th>10685</th>\n",
       "      <td>north west</td>\n",
       "      <td>5259</td>\n",
       "      <td>no</td>\n",
       "      <td>basic</td>\n",
       "      <td>college</td>\n",
       "      <td>1/6/11</td>\n",
       "      <td>jan</td>\n",
       "      <td>employed</td>\n",
       "      <td>f</td>\n",
       "      <td>61146</td>\n",
       "      <td>...</td>\n",
       "      <td>68</td>\n",
       "      <td>0</td>\n",
       "      <td>6</td>\n",
       "      <td>personal auto</td>\n",
       "      <td>personal l3</td>\n",
       "      <td>offer2</td>\n",
       "      <td>branch</td>\n",
       "      <td>273</td>\n",
       "      <td>four-door car</td>\n",
       "      <td>medsize</td>\n",
       "    </tr>\n",
       "    <tr>\n",
       "      <th>10686</th>\n",
       "      <td>central</td>\n",
       "      <td>23893</td>\n",
       "      <td>no</td>\n",
       "      <td>extended</td>\n",
       "      <td>bachelor</td>\n",
       "      <td>2/6/11</td>\n",
       "      <td>feb</td>\n",
       "      <td>employed</td>\n",
       "      <td>f</td>\n",
       "      <td>39837</td>\n",
       "      <td>...</td>\n",
       "      <td>63</td>\n",
       "      <td>0</td>\n",
       "      <td>2</td>\n",
       "      <td>corporate auto</td>\n",
       "      <td>corporate l3</td>\n",
       "      <td>offer1</td>\n",
       "      <td>web</td>\n",
       "      <td>381</td>\n",
       "      <td>luxury suv</td>\n",
       "      <td>medsize</td>\n",
       "    </tr>\n",
       "    <tr>\n",
       "      <th>10687</th>\n",
       "      <td>west region</td>\n",
       "      <td>11971</td>\n",
       "      <td>no</td>\n",
       "      <td>premium</td>\n",
       "      <td>college</td>\n",
       "      <td>2/13/11</td>\n",
       "      <td>feb</td>\n",
       "      <td>employed</td>\n",
       "      <td>f</td>\n",
       "      <td>64195</td>\n",
       "      <td>...</td>\n",
       "      <td>27</td>\n",
       "      <td>4</td>\n",
       "      <td>6</td>\n",
       "      <td>personal auto</td>\n",
       "      <td>personal l1</td>\n",
       "      <td>offer1</td>\n",
       "      <td>branch</td>\n",
       "      <td>618</td>\n",
       "      <td>suv</td>\n",
       "      <td>medsize</td>\n",
       "    </tr>\n",
       "    <tr>\n",
       "      <th>10688</th>\n",
       "      <td>central</td>\n",
       "      <td>6857</td>\n",
       "      <td>no</td>\n",
       "      <td>basic</td>\n",
       "      <td>bachelor</td>\n",
       "      <td>1/8/11</td>\n",
       "      <td>jan</td>\n",
       "      <td>unemployed</td>\n",
       "      <td>m</td>\n",
       "      <td>68942</td>\n",
       "      <td>...</td>\n",
       "      <td>1</td>\n",
       "      <td>0</td>\n",
       "      <td>3</td>\n",
       "      <td>personal auto</td>\n",
       "      <td>personal l1</td>\n",
       "      <td>offer4</td>\n",
       "      <td>web</td>\n",
       "      <td>1021</td>\n",
       "      <td>suv</td>\n",
       "      <td>medsize</td>\n",
       "    </tr>\n",
       "  </tbody>\n",
       "</table>\n",
       "<p>10689 rows × 24 columns</p>\n",
       "</div>"
      ],
      "text/plain": [
       "            region  customer_lifetime_value response  coverage education  \\\n",
       "0          central                     4809       no     basic   college   \n",
       "1      west region                     2228       no     basic   college   \n",
       "2             east                    14947       no     basic  bachelor   \n",
       "3       north west                    22332      yes  extended   college   \n",
       "4       north west                     9025       no   premium  bachelor   \n",
       "...            ...                      ...      ...       ...       ...   \n",
       "10684      central                    15563       no   premium  bachelor   \n",
       "10685   north west                     5259       no     basic   college   \n",
       "10686      central                    23893       no  extended  bachelor   \n",
       "10687  west region                    11971       no   premium   college   \n",
       "10688      central                     6857       no     basic  bachelor   \n",
       "\n",
       "      effective_to_date month employment_status gender  income  ...  \\\n",
       "0               2/18/11   feb          employed      m   48029  ...   \n",
       "1               1/18/11   jan        unemployed      f   92260  ...   \n",
       "2               2/10/11   feb          employed      m   22139  ...   \n",
       "3               1/11/11   jan          employed      m   49078  ...   \n",
       "4               1/17/11   jan     medical leave      f   23675  ...   \n",
       "...                 ...   ...               ...    ...     ...  ...   \n",
       "10684           1/19/11   jan        unemployed      f   61541  ...   \n",
       "10685            1/6/11   jan          employed      f   61146  ...   \n",
       "10686            2/6/11   feb          employed      f   39837  ...   \n",
       "10687           2/13/11   feb          employed      f   64195  ...   \n",
       "10688            1/8/11   jan        unemployed      m   68942  ...   \n",
       "\n",
       "      months_since_policy_inception number_of_open_complaints  \\\n",
       "0                                52                         0   \n",
       "1                                26                         0   \n",
       "2                                31                         0   \n",
       "3                                 3                         0   \n",
       "4                                31                         0   \n",
       "...                             ...                       ...   \n",
       "10684                            40                         0   \n",
       "10685                            68                         0   \n",
       "10686                            63                         0   \n",
       "10687                            27                         4   \n",
       "10688                             1                         0   \n",
       "\n",
       "       number_of_policies     policy_type        policy  renew_offer_type  \\\n",
       "0                       9  corporate auto  corporate l3            offer3   \n",
       "1                       1   personal auto   personal l3            offer4   \n",
       "2                       2   personal auto   personal l3            offer3   \n",
       "3                       2  corporate auto  corporate l3            offer2   \n",
       "4                       7   personal auto   personal l2            offer1   \n",
       "...                   ...             ...           ...               ...   \n",
       "10684                   7   personal auto   personal l1            offer3   \n",
       "10685                   6   personal auto   personal l3            offer2   \n",
       "10686                   2  corporate auto  corporate l3            offer1   \n",
       "10687                   6   personal auto   personal l1            offer1   \n",
       "10688                   3   personal auto   personal l1            offer4   \n",
       "\n",
       "       sales_channel total_claim_amount  vehicle_class vehicle_size  \n",
       "0              agent                292  four-door car      medsize  \n",
       "1        call center                744  four-door car      medsize  \n",
       "2        call center                480            suv      medsize  \n",
       "3             branch                484  four-door car      medsize  \n",
       "4             branch                707  four-door car      medsize  \n",
       "...              ...                ...            ...          ...  \n",
       "10684            web               1214     luxury car      medsize  \n",
       "10685         branch                273  four-door car      medsize  \n",
       "10686            web                381     luxury suv      medsize  \n",
       "10687         branch                618            suv      medsize  \n",
       "10688            web               1021            suv      medsize  \n",
       "\n",
       "[10689 rows x 24 columns]"
      ]
     },
     "execution_count": 3,
     "metadata": {},
     "output_type": "execute_result"
    }
   ],
   "source": [
    "import numpy as np\n",
    "import pandas as pd\n",
    "import matplotlib.pyplot as plt\n",
    "%matplotlib inline\n",
    "import seaborn as sns\n",
    "import statsmodels.api as sm\n",
    "from scipy.stats import boxcox\n",
    "df = pd.read_csv('Data/Data_Marketing_Customer_Analysis_Round3.csv')\n",
    "df"
   ]
  },
  {
   "cell_type": "code",
   "execution_count": 28,
   "id": "0f365eda",
   "metadata": {},
   "outputs": [
    {
     "name": "stdout",
     "output_type": "stream",
     "text": [
      "<class 'pandas.core.frame.DataFrame'>\n",
      "RangeIndex: 10689 entries, 0 to 10688\n",
      "Data columns (total 24 columns):\n",
      " #   Column                         Non-Null Count  Dtype \n",
      "---  ------                         --------------  ----- \n",
      " 0   region                         10689 non-null  object\n",
      " 1   customer_lifetime_value        10689 non-null  int64 \n",
      " 2   response                       10689 non-null  object\n",
      " 3   coverage                       10689 non-null  object\n",
      " 4   education                      10689 non-null  object\n",
      " 5   effective_to_date              10689 non-null  object\n",
      " 6   month                          10689 non-null  object\n",
      " 7   employment_status              10689 non-null  object\n",
      " 8   gender                         10689 non-null  object\n",
      " 9   income                         10689 non-null  int64 \n",
      " 10  location_code                  10689 non-null  object\n",
      " 11  marital_status                 10689 non-null  object\n",
      " 12  monthly_premium_auto           10689 non-null  int64 \n",
      " 13  months_since_last_claim        10689 non-null  int64 \n",
      " 14  months_since_policy_inception  10689 non-null  int64 \n",
      " 15  number_of_open_complaints      10689 non-null  int64 \n",
      " 16  number_of_policies             10689 non-null  int64 \n",
      " 17  policy_type                    10689 non-null  object\n",
      " 18  policy                         10689 non-null  object\n",
      " 19  renew_offer_type               10689 non-null  object\n",
      " 20  sales_channel                  10689 non-null  object\n",
      " 21  total_claim_amount             10689 non-null  int64 \n",
      " 22  vehicle_class                  10689 non-null  object\n",
      " 23  vehicle_size                   10689 non-null  object\n",
      "dtypes: int64(8), object(16)\n",
      "memory usage: 2.0+ MB\n"
     ]
    }
   ],
   "source": [
    "df.info()"
   ]
  },
  {
   "cell_type": "code",
   "execution_count": 7,
   "id": "f790fb3e",
   "metadata": {},
   "outputs": [],
   "source": [
    "response = df['response'].value_counts()"
   ]
  },
  {
   "cell_type": "code",
   "execution_count": 8,
   "id": "1e93fc15",
   "metadata": {},
   "outputs": [
    {
     "data": {
      "text/plain": [
       "no     9316\n",
       "yes    1373\n",
       "Name: response, dtype: int64"
      ]
     },
     "execution_count": 8,
     "metadata": {},
     "output_type": "execute_result"
    }
   ],
   "source": [
    "response"
   ]
  },
  {
   "cell_type": "code",
   "execution_count": 9,
   "id": "45d062ab",
   "metadata": {},
   "outputs": [
    {
     "data": {
      "text/plain": [
       "<AxesSubplot:title={'center':'Bar plot of responses'}, ylabel='response'>"
      ]
     },
     "execution_count": 9,
     "metadata": {},
     "output_type": "execute_result"
    },
    {
     "data": {
      "image/png": "[encoded data removed]",
      "text/plain": [
       "<Figure size 432x288 with 1 Axes>"
      ]
     },
     "metadata": {
      "needs_background": "light"
     },
     "output_type": "display_data"
    }
   ],
   "source": [
    "# create figure and axes\n",
    "# subplots()\n",
    "fig3, ax3 = plt.subplots()\n",
    "# set title\n",
    "# set_title()\n",
    "ax3.set_title(\"Bar plot of responses\")\n",
    "# plot the bar chart\n",
    "# bar()\n",
    "\n",
    "sns.barplot(x=response.index ,y =response)"
   ]
  },
  {
   "cell_type": "code",
   "execution_count": 10,
   "id": "fc65e7fa",
   "metadata": {},
   "outputs": [
    {
     "ename": "SyntaxError",
     "evalue": "invalid syntax (701691698.py, line 1)",
     "output_type": "error",
     "traceback": [
      "\u001b[1;36m  Input \u001b[1;32mIn [10]\u001b[1;36m\u001b[0m\n\u001b[1;33m    <AxesSubplot:title={'center':'Bar plot of response'}, ylabel='response'>\u001b[0m\n\u001b[1;37m    ^\u001b[0m\n\u001b[1;31mSyntaxError\u001b[0m\u001b[1;31m:\u001b[0m invalid syntax\n"
     ]
    }
   ],
   "source": [
    "<AxesSubplot:title={'center':'Bar plot of response'}, ylabel='response'>"
   ]
  },
  {
   "cell_type": "code",
   "execution_count": 29,
   "id": "fb56f500",
   "metadata": {},
   "outputs": [
    {
     "name": "stdout",
     "output_type": "stream",
     "text": [
      "<class 'pandas.core.frame.DataFrame'>\n",
      "RangeIndex: 10689 entries, 0 to 10688\n",
      "Data columns (total 24 columns):\n",
      " #   Column                         Non-Null Count  Dtype \n",
      "---  ------                         --------------  ----- \n",
      " 0   region                         10689 non-null  object\n",
      " 1   customer_lifetime_value        10689 non-null  int64 \n",
      " 2   response                       10689 non-null  object\n",
      " 3   coverage                       10689 non-null  object\n",
      " 4   education                      10689 non-null  object\n",
      " 5   effective_to_date              10689 non-null  object\n",
      " 6   month                          10689 non-null  object\n",
      " 7   employment_status              10689 non-null  object\n",
      " 8   gender                         10689 non-null  object\n",
      " 9   income                         10689 non-null  int64 \n",
      " 10  location_code                  10689 non-null  object\n",
      " 11  marital_status                 10689 non-null  object\n",
      " 12  monthly_premium_auto           10689 non-null  int64 \n",
      " 13  months_since_last_claim        10689 non-null  int64 \n",
      " 14  months_since_policy_inception  10689 non-null  int64 \n",
      " 15  number_of_open_complaints      10689 non-null  int64 \n",
      " 16  number_of_policies             10689 non-null  int64 \n",
      " 17  policy_type                    10689 non-null  object\n",
      " 18  policy                         10689 non-null  object\n",
      " 19  renew_offer_type               10689 non-null  object\n",
      " 20  sales_channel                  10689 non-null  object\n",
      " 21  total_claim_amount             10689 non-null  int64 \n",
      " 22  vehicle_class                  10689 non-null  object\n",
      " 23  vehicle_size                   10689 non-null  object\n",
      "dtypes: int64(8), object(16)\n",
      "memory usage: 2.0+ MB\n"
     ]
    }
   ],
   "source": [
    "df.info()"
   ]
  },
  {
   "cell_type": "code",
   "execution_count": 17,
   "id": "5d880b2f",
   "metadata": {},
   "outputs": [],
   "source": [
    "#plot of the response by the sales channel"
   ]
  },
  {
   "cell_type": "code",
   "execution_count": 31,
   "id": "ab8be60b",
   "metadata": {},
   "outputs": [
    {
     "data": {
      "text/plain": [
       "agent          4019\n",
       "branch         2975\n",
       "call center    2099\n",
       "web            1596\n",
       "Name: sales_channel, dtype: int64"
      ]
     },
     "execution_count": 31,
     "metadata": {},
     "output_type": "execute_result"
    }
   ],
   "source": [
    "sales_channel = df['sales_channel'].value_counts()\n",
    "sales_channel"
   ]
  },
  {
   "cell_type": "code",
   "execution_count": 32,
   "id": "657cdcfe",
   "metadata": {},
   "outputs": [
    {
     "data": {
      "text/plain": [
       "<AxesSubplot:ylabel='sales_channel'>"
      ]
     },
     "execution_count": 32,
     "metadata": {},
     "output_type": "execute_result"
    },
    {
     "data": {
      "image/png": "[encoded data removed]",
      "text/plain": [
       "<Figure size 432x288 with 2 Axes>"
      ]
     },
     "metadata": {
      "needs_background": "light"
     },
     "output_type": "display_data"
    }
   ],
   "source": [
    "# create figure and axes\n",
    "fig20, ax20 = plt.subplots(1,2)\n",
    "\n",
    "# plot the bar chart\n",
    "# With matplotlib\n",
    "ax20[0].bar(x= sales_channel.index, height = sales_channel, color = ['r','g',\"b\"])\n",
    "#ax20[1].bar(x=p_class.index, height = p_class)\n",
    "\n",
    "# With seaborn\n",
    "sns.barplot(x = sales_channel.index, y = sales_channel)"
   ]
  },
  {
   "cell_type": "code",
   "execution_count": null,
   "id": "21eb0e8e",
   "metadata": {},
   "outputs": [],
   "source": [
    "#plot of the response by the total claim amount"
   ]
  },
  {
   "cell_type": "code",
   "execution_count": 33,
   "id": "4c69eb52",
   "metadata": {},
   "outputs": [
    {
     "data": {
      "text/plain": [
       "0    8472\n",
       "1    1205\n",
       "2     436\n",
       "3     334\n",
       "4     174\n",
       "5      68\n",
       "Name: number_of_open_complaints, dtype: int64"
      ]
     },
     "execution_count": 33,
     "metadata": {},
     "output_type": "execute_result"
    }
   ],
   "source": [
    "number_of_open_complaints = df['number_of_open_complaints'].value_counts()\n",
    "number_of_open_complaints"
   ]
  },
  {
   "cell_type": "code",
   "execution_count": 36,
   "id": "fa220cd3",
   "metadata": {},
   "outputs": [
    {
     "data": {
      "text/html": [
       "<div>\n",
       "<style scoped>\n",
       "    .dataframe tbody tr th:only-of-type {\n",
       "        vertical-align: middle;\n",
       "    }\n",
       "\n",
       "    .dataframe tbody tr th {\n",
       "        vertical-align: top;\n",
       "    }\n",
       "\n",
       "    .dataframe thead th {\n",
       "        text-align: right;\n",
       "    }\n",
       "</style>\n",
       "<table border=\"1\" class=\"dataframe\">\n",
       "  <thead>\n",
       "    <tr style=\"text-align: right;\">\n",
       "      <th></th>\n",
       "      <th>region</th>\n",
       "      <th>customer_lifetime_value</th>\n",
       "      <th>response</th>\n",
       "      <th>coverage</th>\n",
       "      <th>education</th>\n",
       "      <th>effective_to_date</th>\n",
       "      <th>month</th>\n",
       "      <th>employment_status</th>\n",
       "      <th>gender</th>\n",
       "      <th>income</th>\n",
       "      <th>...</th>\n",
       "      <th>number_of_open_complaints</th>\n",
       "      <th>number_of_policies</th>\n",
       "      <th>policy_type</th>\n",
       "      <th>policy</th>\n",
       "      <th>renew_offer_type</th>\n",
       "      <th>sales_channel</th>\n",
       "      <th>total_claim_amount</th>\n",
       "      <th>vehicle_class</th>\n",
       "      <th>vehicle_size</th>\n",
       "      <th>rounded_claim_amount</th>\n",
       "    </tr>\n",
       "  </thead>\n",
       "  <tbody>\n",
       "    <tr>\n",
       "      <th>0</th>\n",
       "      <td>central</td>\n",
       "      <td>4809</td>\n",
       "      <td>no</td>\n",
       "      <td>basic</td>\n",
       "      <td>college</td>\n",
       "      <td>2/18/11</td>\n",
       "      <td>feb</td>\n",
       "      <td>employed</td>\n",
       "      <td>m</td>\n",
       "      <td>48029</td>\n",
       "      <td>...</td>\n",
       "      <td>0</td>\n",
       "      <td>9</td>\n",
       "      <td>corporate auto</td>\n",
       "      <td>corporate l3</td>\n",
       "      <td>offer3</td>\n",
       "      <td>agent</td>\n",
       "      <td>292</td>\n",
       "      <td>four-door car</td>\n",
       "      <td>medsize</td>\n",
       "      <td>300</td>\n",
       "    </tr>\n",
       "    <tr>\n",
       "      <th>1</th>\n",
       "      <td>west region</td>\n",
       "      <td>2228</td>\n",
       "      <td>no</td>\n",
       "      <td>basic</td>\n",
       "      <td>college</td>\n",
       "      <td>1/18/11</td>\n",
       "      <td>jan</td>\n",
       "      <td>unemployed</td>\n",
       "      <td>f</td>\n",
       "      <td>92260</td>\n",
       "      <td>...</td>\n",
       "      <td>0</td>\n",
       "      <td>1</td>\n",
       "      <td>personal auto</td>\n",
       "      <td>personal l3</td>\n",
       "      <td>offer4</td>\n",
       "      <td>call center</td>\n",
       "      <td>744</td>\n",
       "      <td>four-door car</td>\n",
       "      <td>medsize</td>\n",
       "      <td>700</td>\n",
       "    </tr>\n",
       "    <tr>\n",
       "      <th>2</th>\n",
       "      <td>east</td>\n",
       "      <td>14947</td>\n",
       "      <td>no</td>\n",
       "      <td>basic</td>\n",
       "      <td>bachelor</td>\n",
       "      <td>2/10/11</td>\n",
       "      <td>feb</td>\n",
       "      <td>employed</td>\n",
       "      <td>m</td>\n",
       "      <td>22139</td>\n",
       "      <td>...</td>\n",
       "      <td>0</td>\n",
       "      <td>2</td>\n",
       "      <td>personal auto</td>\n",
       "      <td>personal l3</td>\n",
       "      <td>offer3</td>\n",
       "      <td>call center</td>\n",
       "      <td>480</td>\n",
       "      <td>suv</td>\n",
       "      <td>medsize</td>\n",
       "      <td>500</td>\n",
       "    </tr>\n",
       "    <tr>\n",
       "      <th>3</th>\n",
       "      <td>north west</td>\n",
       "      <td>22332</td>\n",
       "      <td>yes</td>\n",
       "      <td>extended</td>\n",
       "      <td>college</td>\n",
       "      <td>1/11/11</td>\n",
       "      <td>jan</td>\n",
       "      <td>employed</td>\n",
       "      <td>m</td>\n",
       "      <td>49078</td>\n",
       "      <td>...</td>\n",
       "      <td>0</td>\n",
       "      <td>2</td>\n",
       "      <td>corporate auto</td>\n",
       "      <td>corporate l3</td>\n",
       "      <td>offer2</td>\n",
       "      <td>branch</td>\n",
       "      <td>484</td>\n",
       "      <td>four-door car</td>\n",
       "      <td>medsize</td>\n",
       "      <td>500</td>\n",
       "    </tr>\n",
       "    <tr>\n",
       "      <th>4</th>\n",
       "      <td>north west</td>\n",
       "      <td>9025</td>\n",
       "      <td>no</td>\n",
       "      <td>premium</td>\n",
       "      <td>bachelor</td>\n",
       "      <td>1/17/11</td>\n",
       "      <td>jan</td>\n",
       "      <td>medical leave</td>\n",
       "      <td>f</td>\n",
       "      <td>23675</td>\n",
       "      <td>...</td>\n",
       "      <td>0</td>\n",
       "      <td>7</td>\n",
       "      <td>personal auto</td>\n",
       "      <td>personal l2</td>\n",
       "      <td>offer1</td>\n",
       "      <td>branch</td>\n",
       "      <td>707</td>\n",
       "      <td>four-door car</td>\n",
       "      <td>medsize</td>\n",
       "      <td>700</td>\n",
       "    </tr>\n",
       "    <tr>\n",
       "      <th>...</th>\n",
       "      <td>...</td>\n",
       "      <td>...</td>\n",
       "      <td>...</td>\n",
       "      <td>...</td>\n",
       "      <td>...</td>\n",
       "      <td>...</td>\n",
       "      <td>...</td>\n",
       "      <td>...</td>\n",
       "      <td>...</td>\n",
       "      <td>...</td>\n",
       "      <td>...</td>\n",
       "      <td>...</td>\n",
       "      <td>...</td>\n",
       "      <td>...</td>\n",
       "      <td>...</td>\n",
       "      <td>...</td>\n",
       "      <td>...</td>\n",
       "      <td>...</td>\n",
       "      <td>...</td>\n",
       "      <td>...</td>\n",
       "      <td>...</td>\n",
       "    </tr>\n",
       "    <tr>\n",
       "      <th>10684</th>\n",
       "      <td>central</td>\n",
       "      <td>15563</td>\n",
       "      <td>no</td>\n",
       "      <td>premium</td>\n",
       "      <td>bachelor</td>\n",
       "      <td>1/19/11</td>\n",
       "      <td>jan</td>\n",
       "      <td>unemployed</td>\n",
       "      <td>f</td>\n",
       "      <td>61541</td>\n",
       "      <td>...</td>\n",
       "      <td>0</td>\n",
       "      <td>7</td>\n",
       "      <td>personal auto</td>\n",
       "      <td>personal l1</td>\n",
       "      <td>offer3</td>\n",
       "      <td>web</td>\n",
       "      <td>1214</td>\n",
       "      <td>luxury car</td>\n",
       "      <td>medsize</td>\n",
       "      <td>1200</td>\n",
       "    </tr>\n",
       "    <tr>\n",
       "      <th>10685</th>\n",
       "      <td>north west</td>\n",
       "      <td>5259</td>\n",
       "      <td>no</td>\n",
       "      <td>basic</td>\n",
       "      <td>college</td>\n",
       "      <td>1/6/11</td>\n",
       "      <td>jan</td>\n",
       "      <td>employed</td>\n",
       "      <td>f</td>\n",
       "      <td>61146</td>\n",
       "      <td>...</td>\n",
       "      <td>0</td>\n",
       "      <td>6</td>\n",
       "      <td>personal auto</td>\n",
       "      <td>personal l3</td>\n",
       "      <td>offer2</td>\n",
       "      <td>branch</td>\n",
       "      <td>273</td>\n",
       "      <td>four-door car</td>\n",
       "      <td>medsize</td>\n",
       "      <td>300</td>\n",
       "    </tr>\n",
       "    <tr>\n",
       "      <th>10686</th>\n",
       "      <td>central</td>\n",
       "      <td>23893</td>\n",
       "      <td>no</td>\n",
       "      <td>extended</td>\n",
       "      <td>bachelor</td>\n",
       "      <td>2/6/11</td>\n",
       "      <td>feb</td>\n",
       "      <td>employed</td>\n",
       "      <td>f</td>\n",
       "      <td>39837</td>\n",
       "      <td>...</td>\n",
       "      <td>0</td>\n",
       "      <td>2</td>\n",
       "      <td>corporate auto</td>\n",
       "      <td>corporate l3</td>\n",
       "      <td>offer1</td>\n",
       "      <td>web</td>\n",
       "      <td>381</td>\n",
       "      <td>luxury suv</td>\n",
       "      <td>medsize</td>\n",
       "      <td>400</td>\n",
       "    </tr>\n",
       "    <tr>\n",
       "      <th>10687</th>\n",
       "      <td>west region</td>\n",
       "      <td>11971</td>\n",
       "      <td>no</td>\n",
       "      <td>premium</td>\n",
       "      <td>college</td>\n",
       "      <td>2/13/11</td>\n",
       "      <td>feb</td>\n",
       "      <td>employed</td>\n",
       "      <td>f</td>\n",
       "      <td>64195</td>\n",
       "      <td>...</td>\n",
       "      <td>4</td>\n",
       "      <td>6</td>\n",
       "      <td>personal auto</td>\n",
       "      <td>personal l1</td>\n",
       "      <td>offer1</td>\n",
       "      <td>branch</td>\n",
       "      <td>618</td>\n",
       "      <td>suv</td>\n",
       "      <td>medsize</td>\n",
       "      <td>600</td>\n",
       "    </tr>\n",
       "    <tr>\n",
       "      <th>10688</th>\n",
       "      <td>central</td>\n",
       "      <td>6857</td>\n",
       "      <td>no</td>\n",
       "      <td>basic</td>\n",
       "      <td>bachelor</td>\n",
       "      <td>1/8/11</td>\n",
       "      <td>jan</td>\n",
       "      <td>unemployed</td>\n",
       "      <td>m</td>\n",
       "      <td>68942</td>\n",
       "      <td>...</td>\n",
       "      <td>0</td>\n",
       "      <td>3</td>\n",
       "      <td>personal auto</td>\n",
       "      <td>personal l1</td>\n",
       "      <td>offer4</td>\n",
       "      <td>web</td>\n",
       "      <td>1021</td>\n",
       "      <td>suv</td>\n",
       "      <td>medsize</td>\n",
       "      <td>1000</td>\n",
       "    </tr>\n",
       "  </tbody>\n",
       "</table>\n",
       "<p>10689 rows × 25 columns</p>\n",
       "</div>"
      ],
      "text/plain": [
       "            region  customer_lifetime_value response  coverage education  \\\n",
       "0          central                     4809       no     basic   college   \n",
       "1      west region                     2228       no     basic   college   \n",
       "2             east                    14947       no     basic  bachelor   \n",
       "3       north west                    22332      yes  extended   college   \n",
       "4       north west                     9025       no   premium  bachelor   \n",
       "...            ...                      ...      ...       ...       ...   \n",
       "10684      central                    15563       no   premium  bachelor   \n",
       "10685   north west                     5259       no     basic   college   \n",
       "10686      central                    23893       no  extended  bachelor   \n",
       "10687  west region                    11971       no   premium   college   \n",
       "10688      central                     6857       no     basic  bachelor   \n",
       "\n",
       "      effective_to_date month employment_status gender  income  ...  \\\n",
       "0               2/18/11   feb          employed      m   48029  ...   \n",
       "1               1/18/11   jan        unemployed      f   92260  ...   \n",
       "2               2/10/11   feb          employed      m   22139  ...   \n",
       "3               1/11/11   jan          employed      m   49078  ...   \n",
       "4               1/17/11   jan     medical leave      f   23675  ...   \n",
       "...                 ...   ...               ...    ...     ...  ...   \n",
       "10684           1/19/11   jan        unemployed      f   61541  ...   \n",
       "10685            1/6/11   jan          employed      f   61146  ...   \n",
       "10686            2/6/11   feb          employed      f   39837  ...   \n",
       "10687           2/13/11   feb          employed      f   64195  ...   \n",
       "10688            1/8/11   jan        unemployed      m   68942  ...   \n",
       "\n",
       "      number_of_open_complaints number_of_policies     policy_type  \\\n",
       "0                             0                  9  corporate auto   \n",
       "1                             0                  1   personal auto   \n",
       "2                             0                  2   personal auto   \n",
       "3                             0                  2  corporate auto   \n",
       "4                             0                  7   personal auto   \n",
       "...                         ...                ...             ...   \n",
       "10684                         0                  7   personal auto   \n",
       "10685                         0                  6   personal auto   \n",
       "10686                         0                  2  corporate auto   \n",
       "10687                         4                  6   personal auto   \n",
       "10688                         0                  3   personal auto   \n",
       "\n",
       "             policy  renew_offer_type  sales_channel  total_claim_amount  \\\n",
       "0      corporate l3            offer3          agent                 292   \n",
       "1       personal l3            offer4    call center                 744   \n",
       "2       personal l3            offer3    call center                 480   \n",
       "3      corporate l3            offer2         branch                 484   \n",
       "4       personal l2            offer1         branch                 707   \n",
       "...             ...               ...            ...                 ...   \n",
       "10684   personal l1            offer3            web                1214   \n",
       "10685   personal l3            offer2         branch                 273   \n",
       "10686  corporate l3            offer1            web                 381   \n",
       "10687   personal l1            offer1         branch                 618   \n",
       "10688   personal l1            offer4            web                1021   \n",
       "\n",
       "       vehicle_class vehicle_size rounded_claim_amount  \n",
       "0      four-door car      medsize                  300  \n",
       "1      four-door car      medsize                  700  \n",
       "2                suv      medsize                  500  \n",
       "3      four-door car      medsize                  500  \n",
       "4      four-door car      medsize                  700  \n",
       "...              ...          ...                  ...  \n",
       "10684     luxury car      medsize                 1200  \n",
       "10685  four-door car      medsize                  300  \n",
       "10686     luxury suv      medsize                  400  \n",
       "10687            suv      medsize                  600  \n",
       "10688            suv      medsize                 1000  \n",
       "\n",
       "[10689 rows x 25 columns]"
      ]
     },
     "execution_count": 36,
     "metadata": {},
     "output_type": "execute_result"
    }
   ],
   "source": [
    "df ['rounded_claim_amount'] = df['total_claim_amount'].apply(round, ndigits = -2)\n",
    "df"
   ]
  },
  {
   "cell_type": "code",
   "execution_count": 77,
   "id": "68d64c62",
   "metadata": {},
   "outputs": [
    {
     "data": {
      "image/png": "[encoded data removed]",
      "text/plain": [
       "<Figure size 2160x1080 with 1 Axes>"
      ]
     },
     "metadata": {
      "needs_background": "light"
     },
     "output_type": "display_data"
    }
   ],
   "source": [
    "plt.figure(figsize=(30,15))\n",
    "plt.subplot(2,2,1)\n",
    "sns.countplot(x ='rounded_claim_amount', hue = 'response', data = df)\n",
    "plt.show()"
   ]
  },
  {
   "cell_type": "code",
   "execution_count": 41,
   "id": "a9038400",
   "metadata": {},
   "outputs": [
    {
     "name": "stdout",
     "output_type": "stream",
     "text": [
      "<class 'pandas.core.frame.DataFrame'>\n",
      "RangeIndex: 10689 entries, 0 to 10688\n",
      "Data columns (total 25 columns):\n",
      " #   Column                         Non-Null Count  Dtype \n",
      "---  ------                         --------------  ----- \n",
      " 0   region                         10689 non-null  object\n",
      " 1   customer_lifetime_value        10689 non-null  int64 \n",
      " 2   response                       10689 non-null  object\n",
      " 3   coverage                       10689 non-null  object\n",
      " 4   education                      10689 non-null  object\n",
      " 5   effective_to_date              10689 non-null  object\n",
      " 6   month                          10689 non-null  object\n",
      " 7   employment_status              10689 non-null  object\n",
      " 8   gender                         10689 non-null  object\n",
      " 9   income                         10689 non-null  int64 \n",
      " 10  location_code                  10689 non-null  object\n",
      " 11  marital_status                 10689 non-null  object\n",
      " 12  monthly_premium_auto           10689 non-null  int64 \n",
      " 13  months_since_last_claim        10689 non-null  int64 \n",
      " 14  months_since_policy_inception  10689 non-null  int64 \n",
      " 15  number_of_open_complaints      10689 non-null  int64 \n",
      " 16  number_of_policies             10689 non-null  int64 \n",
      " 17  policy_type                    10689 non-null  object\n",
      " 18  policy                         10689 non-null  object\n",
      " 19  renew_offer_type               10689 non-null  object\n",
      " 20  sales_channel                  10689 non-null  object\n",
      " 21  total_claim_amount             10689 non-null  int64 \n",
      " 22  vehicle_class                  10689 non-null  object\n",
      " 23  vehicle_size                   10689 non-null  object\n",
      " 24  rounded_claim_amount           10689 non-null  int64 \n",
      "dtypes: int64(9), object(16)\n",
      "memory usage: 2.0+ MB\n"
     ]
    }
   ],
   "source": [
    "df.info()"
   ]
  },
  {
   "cell_type": "code",
   "execution_count": 59,
   "id": "5ee7f6a3",
   "metadata": {},
   "outputs": [
    {
     "ename": "TypeError",
     "evalue": "subplot() takes 1 or 3 positional arguments but 2 were given",
     "output_type": "error",
     "traceback": [
      "\u001b[1;31m---------------------------------------------------------------------------\u001b[0m",
      "\u001b[1;31mTypeError\u001b[0m                                 Traceback (most recent call last)",
      "Input \u001b[1;32mIn [59]\u001b[0m, in \u001b[0;36m<cell line: 2>\u001b[1;34m()\u001b[0m\n\u001b[0;32m      1\u001b[0m \u001b[38;5;66;03m# create figure and axes\u001b[39;00m\n\u001b[1;32m----> 2\u001b[0m fig24, ax24 \u001b[38;5;241m=\u001b[39m \u001b[43mplt\u001b[49m\u001b[38;5;241;43m.\u001b[39;49m\u001b[43msubplot\u001b[49m\u001b[43m(\u001b[49m\u001b[38;5;241;43m1\u001b[39;49m\u001b[43m,\u001b[49m\u001b[38;5;241;43m2\u001b[39;49m\u001b[43m)\u001b[49m\n\u001b[0;32m      4\u001b[0m \u001b[38;5;66;03m# plot the bar chart\u001b[39;00m\n\u001b[0;32m      5\u001b[0m \u001b[38;5;66;03m# With matplotlib\u001b[39;00m\n\u001b[0;32m      6\u001b[0m ax24[\u001b[38;5;241m0\u001b[39m]\u001b[38;5;241m.\u001b[39mbar(x\u001b[38;5;241m=\u001b[39m number_of_open_complaints\u001b[38;5;241m.\u001b[39mindex, height \u001b[38;5;241m=\u001b[39m number_of_open_complaints, color \u001b[38;5;241m=\u001b[39m [\u001b[38;5;124m'\u001b[39m\u001b[38;5;124mr\u001b[39m\u001b[38;5;124m'\u001b[39m,\u001b[38;5;124m'\u001b[39m\u001b[38;5;124mg\u001b[39m\u001b[38;5;124m'\u001b[39m,\u001b[38;5;124m\"\u001b[39m\u001b[38;5;124mb\u001b[39m\u001b[38;5;124m\"\u001b[39m])\n",
      "File \u001b[1;32m~\\anaconda3\\lib\\site-packages\\matplotlib\\pyplot.py:1268\u001b[0m, in \u001b[0;36msubplot\u001b[1;34m(*args, **kwargs)\u001b[0m\n\u001b[0;32m   1265\u001b[0m fig \u001b[38;5;241m=\u001b[39m gcf()\n\u001b[0;32m   1267\u001b[0m \u001b[38;5;66;03m# First, search for an existing subplot with a matching spec.\u001b[39;00m\n\u001b[1;32m-> 1268\u001b[0m key \u001b[38;5;241m=\u001b[39m \u001b[43mSubplotSpec\u001b[49m\u001b[38;5;241;43m.\u001b[39;49m\u001b[43m_from_subplot_args\u001b[49m\u001b[43m(\u001b[49m\u001b[43mfig\u001b[49m\u001b[43m,\u001b[49m\u001b[43m \u001b[49m\u001b[43margs\u001b[49m\u001b[43m)\u001b[49m\n\u001b[0;32m   1270\u001b[0m \u001b[38;5;28;01mfor\u001b[39;00m ax \u001b[38;5;129;01min\u001b[39;00m fig\u001b[38;5;241m.\u001b[39maxes:\n\u001b[0;32m   1271\u001b[0m     \u001b[38;5;66;03m# if we found an axes at the position sort out if we can re-use it\u001b[39;00m\n\u001b[0;32m   1272\u001b[0m     \u001b[38;5;28;01mif\u001b[39;00m \u001b[38;5;28mhasattr\u001b[39m(ax, \u001b[38;5;124m'\u001b[39m\u001b[38;5;124mget_subplotspec\u001b[39m\u001b[38;5;124m'\u001b[39m) \u001b[38;5;129;01mand\u001b[39;00m ax\u001b[38;5;241m.\u001b[39mget_subplotspec() \u001b[38;5;241m==\u001b[39m key:\n\u001b[0;32m   1273\u001b[0m         \u001b[38;5;66;03m# if the user passed no kwargs, re-use\u001b[39;00m\n",
      "File \u001b[1;32m~\\anaconda3\\lib\\site-packages\\matplotlib\\gridspec.py:594\u001b[0m, in \u001b[0;36mSubplotSpec._from_subplot_args\u001b[1;34m(figure, args)\u001b[0m\n\u001b[0;32m    592\u001b[0m     rows, cols, num \u001b[38;5;241m=\u001b[39m args\n\u001b[0;32m    593\u001b[0m \u001b[38;5;28;01melse\u001b[39;00m:\n\u001b[1;32m--> 594\u001b[0m     \u001b[38;5;28;01mraise\u001b[39;00m \u001b[38;5;167;01mTypeError\u001b[39;00m(\u001b[38;5;124mf\u001b[39m\u001b[38;5;124m\"\u001b[39m\u001b[38;5;124msubplot() takes 1 or 3 positional arguments but \u001b[39m\u001b[38;5;124m\"\u001b[39m\n\u001b[0;32m    595\u001b[0m                     \u001b[38;5;124mf\u001b[39m\u001b[38;5;124m\"\u001b[39m\u001b[38;5;132;01m{\u001b[39;00m\u001b[38;5;28mlen\u001b[39m(args)\u001b[38;5;132;01m}\u001b[39;00m\u001b[38;5;124m were given\u001b[39m\u001b[38;5;124m\"\u001b[39m)\n\u001b[0;32m    597\u001b[0m gs \u001b[38;5;241m=\u001b[39m GridSpec\u001b[38;5;241m.\u001b[39m_check_gridspec_exists(figure, rows, cols)\n\u001b[0;32m    598\u001b[0m \u001b[38;5;28;01mif\u001b[39;00m gs \u001b[38;5;129;01mis\u001b[39;00m \u001b[38;5;28;01mNone\u001b[39;00m:\n",
      "\u001b[1;31mTypeError\u001b[0m: subplot() takes 1 or 3 positional arguments but 2 were given"
     ]
    },
    {
     "data": {
      "text/plain": [
       "<Figure size 432x288 with 0 Axes>"
      ]
     },
     "metadata": {},
     "output_type": "display_data"
    }
   ],
   "source": [
    "# create figure and axes\n",
    "fig24, ax24 = plt.subplot(1,2)\n",
    "\n",
    "# plot the bar chart\n",
    "# With matplotlib\n",
    "ax24[0].bar(x= number_of_open_complaints.index, height = number_of_open_complaints, color = ['r','g',\"b\"])\n",
    "#ax24[1].bar(x=p_class.index, height = p_class)\n"
   ]
  },
  {
   "cell_type": "code",
   "execution_count": 69,
   "id": "08ba9571",
   "metadata": {
    "scrolled": true
   },
   "outputs": [
    {
     "data": {
      "text/plain": [
       "<BarContainer object of 6 artists>"
      ]
     },
     "execution_count": 69,
     "metadata": {},
     "output_type": "execute_result"
    },
    {
     "data": {
      "image/png": "[encoded data removed]",
      "text/plain": [
       "<Figure size 432x288 with 1 Axes>"
      ]
     },
     "metadata": {
      "needs_background": "light"
     },
     "output_type": "display_data"
    }
   ],
   "source": [
    "# create figure and axes\n",
    "fig24, ax24 = plt.subplots(1,1)\n",
    "\n",
    "# plot the bar chart\n",
    "# With matplotlib\n",
    "ax24.bar(x= number_of_open_complaints.index, height = number_of_open_complaints, color = ['r','g',\"b\"])\n",
    "#ax24[1].bar(x=p_class.index, height = p_class)\n",
    "\n",
    "# With seaborn\n",
    "#sns.barplot(x = number_of_open_complaints)"
   ]
  },
  {
   "cell_type": "code",
   "execution_count": 66,
   "id": "5dca1e33",
   "metadata": {},
   "outputs": [
    {
     "data": {
      "text/plain": [
       "0    8472\n",
       "1    1205\n",
       "2     436\n",
       "3     334\n",
       "4     174\n",
       "5      68\n",
       "Name: number_of_open_complaints, dtype: int64"
      ]
     },
     "execution_count": 66,
     "metadata": {},
     "output_type": "execute_result"
    }
   ],
   "source": [
    "number_of_open_complaints"
   ]
  },
  {
   "cell_type": "code",
   "execution_count": 71,
   "id": "f5ef1f48",
   "metadata": {},
   "outputs": [
    {
     "data": {
      "text/plain": [
       "<AxesSubplot:xlabel='number_of_open_complaints', ylabel='count'>"
      ]
     },
     "execution_count": 71,
     "metadata": {},
     "output_type": "execute_result"
    },
    {
     "data": {
      "image/png": "[encoded data removed]",
      "text/plain": [
       "<Figure size 432x288 with 1 Axes>"
      ]
     },
     "metadata": {
      "needs_background": "light"
     },
     "output_type": "display_data"
    }
   ],
   "source": [
    "sns.countplot(x = df.number_of_open_complaints)"
   ]
  },
  {
   "cell_type": "code",
   "execution_count": null,
   "id": "dfe5b8c4",
   "metadata": {},
   "outputs": [],
   "source": []
  },
  {
   "cell_type": "code",
   "execution_count": 49,
   "id": "bbb99b16",
   "metadata": {},
   "outputs": [
    {
     "ename": "ValueError",
     "evalue": "Grouper and axis must be same length",
     "output_type": "error",
     "traceback": [
      "\u001b[1;31m---------------------------------------------------------------------------\u001b[0m",
      "\u001b[1;31mValueError\u001b[0m                                Traceback (most recent call last)",
      "Input \u001b[1;32mIn [49]\u001b[0m, in \u001b[0;36m<cell line: 2>\u001b[1;34m()\u001b[0m\n\u001b[0;32m      1\u001b[0m \u001b[38;5;66;03m# With seaborn\u001b[39;00m\n\u001b[1;32m----> 2\u001b[0m \u001b[43msns\u001b[49m\u001b[38;5;241;43m.\u001b[39;49m\u001b[43mbarplot\u001b[49m\u001b[43m(\u001b[49m\u001b[43mx\u001b[49m\u001b[43m \u001b[49m\u001b[38;5;241;43m=\u001b[39;49m\u001b[43m \u001b[49m\u001b[43mnumber_of_open_complaints\u001b[49m\u001b[38;5;241;43m.\u001b[39;49m\u001b[43mindex\u001b[49m\u001b[43m,\u001b[49m\u001b[43m \u001b[49m\u001b[43my\u001b[49m\u001b[38;5;241;43m=\u001b[39;49m\u001b[43msales_channel\u001b[49m\u001b[38;5;241;43m.\u001b[39;49m\u001b[43mindex\u001b[49m\u001b[43m)\u001b[49m\n",
      "File \u001b[1;32m~\\anaconda3\\lib\\site-packages\\seaborn\\_decorators.py:46\u001b[0m, in \u001b[0;36m_deprecate_positional_args.<locals>.inner_f\u001b[1;34m(*args, **kwargs)\u001b[0m\n\u001b[0;32m     36\u001b[0m     warnings\u001b[38;5;241m.\u001b[39mwarn(\n\u001b[0;32m     37\u001b[0m         \u001b[38;5;124m\"\u001b[39m\u001b[38;5;124mPass the following variable\u001b[39m\u001b[38;5;132;01m{}\u001b[39;00m\u001b[38;5;124m as \u001b[39m\u001b[38;5;132;01m{}\u001b[39;00m\u001b[38;5;124mkeyword arg\u001b[39m\u001b[38;5;132;01m{}\u001b[39;00m\u001b[38;5;124m: \u001b[39m\u001b[38;5;132;01m{}\u001b[39;00m\u001b[38;5;124m. \u001b[39m\u001b[38;5;124m\"\u001b[39m\n\u001b[0;32m     38\u001b[0m         \u001b[38;5;124m\"\u001b[39m\u001b[38;5;124mFrom version 0.12, the only valid positional argument \u001b[39m\u001b[38;5;124m\"\u001b[39m\n\u001b[1;32m   (...)\u001b[0m\n\u001b[0;32m     43\u001b[0m         \u001b[38;5;167;01mFutureWarning\u001b[39;00m\n\u001b[0;32m     44\u001b[0m     )\n\u001b[0;32m     45\u001b[0m kwargs\u001b[38;5;241m.\u001b[39mupdate({k: arg \u001b[38;5;28;01mfor\u001b[39;00m k, arg \u001b[38;5;129;01min\u001b[39;00m \u001b[38;5;28mzip\u001b[39m(sig\u001b[38;5;241m.\u001b[39mparameters, args)})\n\u001b[1;32m---> 46\u001b[0m \u001b[38;5;28;01mreturn\u001b[39;00m f(\u001b[38;5;241m*\u001b[39m\u001b[38;5;241m*\u001b[39mkwargs)\n",
      "File \u001b[1;32m~\\anaconda3\\lib\\site-packages\\seaborn\\categorical.py:3182\u001b[0m, in \u001b[0;36mbarplot\u001b[1;34m(x, y, hue, data, order, hue_order, estimator, ci, n_boot, units, seed, orient, color, palette, saturation, errcolor, errwidth, capsize, dodge, ax, **kwargs)\u001b[0m\n\u001b[0;32m   3169\u001b[0m \u001b[38;5;129m@_deprecate_positional_args\u001b[39m\n\u001b[0;32m   3170\u001b[0m \u001b[38;5;28;01mdef\u001b[39;00m \u001b[38;5;21mbarplot\u001b[39m(\n\u001b[0;32m   3171\u001b[0m     \u001b[38;5;241m*\u001b[39m,\n\u001b[1;32m   (...)\u001b[0m\n\u001b[0;32m   3179\u001b[0m     \u001b[38;5;241m*\u001b[39m\u001b[38;5;241m*\u001b[39mkwargs,\n\u001b[0;32m   3180\u001b[0m ):\n\u001b[1;32m-> 3182\u001b[0m     plotter \u001b[38;5;241m=\u001b[39m \u001b[43m_BarPlotter\u001b[49m\u001b[43m(\u001b[49m\u001b[43mx\u001b[49m\u001b[43m,\u001b[49m\u001b[43m \u001b[49m\u001b[43my\u001b[49m\u001b[43m,\u001b[49m\u001b[43m \u001b[49m\u001b[43mhue\u001b[49m\u001b[43m,\u001b[49m\u001b[43m \u001b[49m\u001b[43mdata\u001b[49m\u001b[43m,\u001b[49m\u001b[43m \u001b[49m\u001b[43morder\u001b[49m\u001b[43m,\u001b[49m\u001b[43m \u001b[49m\u001b[43mhue_order\u001b[49m\u001b[43m,\u001b[49m\n\u001b[0;32m   3183\u001b[0m \u001b[43m                          \u001b[49m\u001b[43mestimator\u001b[49m\u001b[43m,\u001b[49m\u001b[43m \u001b[49m\u001b[43mci\u001b[49m\u001b[43m,\u001b[49m\u001b[43m \u001b[49m\u001b[43mn_boot\u001b[49m\u001b[43m,\u001b[49m\u001b[43m \u001b[49m\u001b[43munits\u001b[49m\u001b[43m,\u001b[49m\u001b[43m \u001b[49m\u001b[43mseed\u001b[49m\u001b[43m,\u001b[49m\n\u001b[0;32m   3184\u001b[0m \u001b[43m                          \u001b[49m\u001b[43morient\u001b[49m\u001b[43m,\u001b[49m\u001b[43m \u001b[49m\u001b[43mcolor\u001b[49m\u001b[43m,\u001b[49m\u001b[43m \u001b[49m\u001b[43mpalette\u001b[49m\u001b[43m,\u001b[49m\u001b[43m \u001b[49m\u001b[43msaturation\u001b[49m\u001b[43m,\u001b[49m\n\u001b[0;32m   3185\u001b[0m \u001b[43m                          \u001b[49m\u001b[43merrcolor\u001b[49m\u001b[43m,\u001b[49m\u001b[43m \u001b[49m\u001b[43merrwidth\u001b[49m\u001b[43m,\u001b[49m\u001b[43m \u001b[49m\u001b[43mcapsize\u001b[49m\u001b[43m,\u001b[49m\u001b[43m \u001b[49m\u001b[43mdodge\u001b[49m\u001b[43m)\u001b[49m\n\u001b[0;32m   3187\u001b[0m     \u001b[38;5;28;01mif\u001b[39;00m ax \u001b[38;5;129;01mis\u001b[39;00m \u001b[38;5;28;01mNone\u001b[39;00m:\n\u001b[0;32m   3188\u001b[0m         ax \u001b[38;5;241m=\u001b[39m plt\u001b[38;5;241m.\u001b[39mgca()\n",
      "File \u001b[1;32m~\\anaconda3\\lib\\site-packages\\seaborn\\categorical.py:1584\u001b[0m, in \u001b[0;36m_BarPlotter.__init__\u001b[1;34m(self, x, y, hue, data, order, hue_order, estimator, ci, n_boot, units, seed, orient, color, palette, saturation, errcolor, errwidth, capsize, dodge)\u001b[0m\n\u001b[0;32m   1579\u001b[0m \u001b[38;5;28;01mdef\u001b[39;00m \u001b[38;5;21m__init__\u001b[39m(\u001b[38;5;28mself\u001b[39m, x, y, hue, data, order, hue_order,\n\u001b[0;32m   1580\u001b[0m              estimator, ci, n_boot, units, seed,\n\u001b[0;32m   1581\u001b[0m              orient, color, palette, saturation, errcolor,\n\u001b[0;32m   1582\u001b[0m              errwidth, capsize, dodge):\n\u001b[0;32m   1583\u001b[0m     \u001b[38;5;124;03m\"\"\"Initialize the plotter.\"\"\"\u001b[39;00m\n\u001b[1;32m-> 1584\u001b[0m     \u001b[38;5;28;43mself\u001b[39;49m\u001b[38;5;241;43m.\u001b[39;49m\u001b[43mestablish_variables\u001b[49m\u001b[43m(\u001b[49m\u001b[43mx\u001b[49m\u001b[43m,\u001b[49m\u001b[43m \u001b[49m\u001b[43my\u001b[49m\u001b[43m,\u001b[49m\u001b[43m \u001b[49m\u001b[43mhue\u001b[49m\u001b[43m,\u001b[49m\u001b[43m \u001b[49m\u001b[43mdata\u001b[49m\u001b[43m,\u001b[49m\u001b[43m \u001b[49m\u001b[43morient\u001b[49m\u001b[43m,\u001b[49m\n\u001b[0;32m   1585\u001b[0m \u001b[43m                             \u001b[49m\u001b[43morder\u001b[49m\u001b[43m,\u001b[49m\u001b[43m \u001b[49m\u001b[43mhue_order\u001b[49m\u001b[43m,\u001b[49m\u001b[43m \u001b[49m\u001b[43munits\u001b[49m\u001b[43m)\u001b[49m\n\u001b[0;32m   1586\u001b[0m     \u001b[38;5;28mself\u001b[39m\u001b[38;5;241m.\u001b[39mestablish_colors(color, palette, saturation)\n\u001b[0;32m   1587\u001b[0m     \u001b[38;5;28mself\u001b[39m\u001b[38;5;241m.\u001b[39mestimate_statistic(estimator, ci, n_boot, seed)\n",
      "File \u001b[1;32m~\\anaconda3\\lib\\site-packages\\seaborn\\categorical.py:206\u001b[0m, in \u001b[0;36m_CategoricalPlotter.establish_variables\u001b[1;34m(self, x, y, hue, data, orient, order, hue_order, units)\u001b[0m\n\u001b[0;32m    203\u001b[0m group_names \u001b[38;5;241m=\u001b[39m categorical_order(groups, order)\n\u001b[0;32m    205\u001b[0m \u001b[38;5;66;03m# Group the numeric data\u001b[39;00m\n\u001b[1;32m--> 206\u001b[0m plot_data, value_label \u001b[38;5;241m=\u001b[39m \u001b[38;5;28;43mself\u001b[39;49m\u001b[38;5;241;43m.\u001b[39;49m\u001b[43m_group_longform\u001b[49m\u001b[43m(\u001b[49m\u001b[43mvals\u001b[49m\u001b[43m,\u001b[49m\u001b[43m \u001b[49m\u001b[43mgroups\u001b[49m\u001b[43m,\u001b[49m\n\u001b[0;32m    207\u001b[0m \u001b[43m                                              \u001b[49m\u001b[43mgroup_names\u001b[49m\u001b[43m)\u001b[49m\n\u001b[0;32m    209\u001b[0m \u001b[38;5;66;03m# Now handle the hue levels for nested ordering\u001b[39;00m\n\u001b[0;32m    210\u001b[0m \u001b[38;5;28;01mif\u001b[39;00m hue \u001b[38;5;129;01mis\u001b[39;00m \u001b[38;5;28;01mNone\u001b[39;00m:\n",
      "File \u001b[1;32m~\\anaconda3\\lib\\site-packages\\seaborn\\categorical.py:253\u001b[0m, in \u001b[0;36m_CategoricalPlotter._group_longform\u001b[1;34m(self, vals, grouper, order)\u001b[0m\n\u001b[0;32m    250\u001b[0m     vals \u001b[38;5;241m=\u001b[39m pd\u001b[38;5;241m.\u001b[39mSeries(vals, index\u001b[38;5;241m=\u001b[39mindex)\n\u001b[0;32m    252\u001b[0m \u001b[38;5;66;03m# Group the val data\u001b[39;00m\n\u001b[1;32m--> 253\u001b[0m grouped_vals \u001b[38;5;241m=\u001b[39m \u001b[43mvals\u001b[49m\u001b[38;5;241;43m.\u001b[39;49m\u001b[43mgroupby\u001b[49m\u001b[43m(\u001b[49m\u001b[43mgrouper\u001b[49m\u001b[43m)\u001b[49m\n\u001b[0;32m    254\u001b[0m out_data \u001b[38;5;241m=\u001b[39m []\n\u001b[0;32m    255\u001b[0m \u001b[38;5;28;01mfor\u001b[39;00m g \u001b[38;5;129;01min\u001b[39;00m order:\n",
      "File \u001b[1;32m~\\anaconda3\\lib\\site-packages\\pandas\\core\\series.py:1922\u001b[0m, in \u001b[0;36mSeries.groupby\u001b[1;34m(self, by, axis, level, as_index, sort, group_keys, squeeze, observed, dropna)\u001b[0m\n\u001b[0;32m   1918\u001b[0m axis \u001b[38;5;241m=\u001b[39m \u001b[38;5;28mself\u001b[39m\u001b[38;5;241m.\u001b[39m_get_axis_number(axis)\n\u001b[0;32m   1920\u001b[0m \u001b[38;5;66;03m# error: Argument \"squeeze\" to \"SeriesGroupBy\" has incompatible type\u001b[39;00m\n\u001b[0;32m   1921\u001b[0m \u001b[38;5;66;03m# \"Union[bool, NoDefault]\"; expected \"bool\"\u001b[39;00m\n\u001b[1;32m-> 1922\u001b[0m \u001b[38;5;28;01mreturn\u001b[39;00m \u001b[43mSeriesGroupBy\u001b[49m\u001b[43m(\u001b[49m\n\u001b[0;32m   1923\u001b[0m \u001b[43m    \u001b[49m\u001b[43mobj\u001b[49m\u001b[38;5;241;43m=\u001b[39;49m\u001b[38;5;28;43mself\u001b[39;49m\u001b[43m,\u001b[49m\n\u001b[0;32m   1924\u001b[0m \u001b[43m    \u001b[49m\u001b[43mkeys\u001b[49m\u001b[38;5;241;43m=\u001b[39;49m\u001b[43mby\u001b[49m\u001b[43m,\u001b[49m\n\u001b[0;32m   1925\u001b[0m \u001b[43m    \u001b[49m\u001b[43maxis\u001b[49m\u001b[38;5;241;43m=\u001b[39;49m\u001b[43maxis\u001b[49m\u001b[43m,\u001b[49m\n\u001b[0;32m   1926\u001b[0m \u001b[43m    \u001b[49m\u001b[43mlevel\u001b[49m\u001b[38;5;241;43m=\u001b[39;49m\u001b[43mlevel\u001b[49m\u001b[43m,\u001b[49m\n\u001b[0;32m   1927\u001b[0m \u001b[43m    \u001b[49m\u001b[43mas_index\u001b[49m\u001b[38;5;241;43m=\u001b[39;49m\u001b[43mas_index\u001b[49m\u001b[43m,\u001b[49m\n\u001b[0;32m   1928\u001b[0m \u001b[43m    \u001b[49m\u001b[43msort\u001b[49m\u001b[38;5;241;43m=\u001b[39;49m\u001b[43msort\u001b[49m\u001b[43m,\u001b[49m\n\u001b[0;32m   1929\u001b[0m \u001b[43m    \u001b[49m\u001b[43mgroup_keys\u001b[49m\u001b[38;5;241;43m=\u001b[39;49m\u001b[43mgroup_keys\u001b[49m\u001b[43m,\u001b[49m\n\u001b[0;32m   1930\u001b[0m \u001b[43m    \u001b[49m\u001b[43msqueeze\u001b[49m\u001b[38;5;241;43m=\u001b[39;49m\u001b[43msqueeze\u001b[49m\u001b[43m,\u001b[49m\u001b[43m  \u001b[49m\u001b[38;5;66;43;03m# type: ignore[arg-type]\u001b[39;49;00m\n\u001b[0;32m   1931\u001b[0m \u001b[43m    \u001b[49m\u001b[43mobserved\u001b[49m\u001b[38;5;241;43m=\u001b[39;49m\u001b[43mobserved\u001b[49m\u001b[43m,\u001b[49m\n\u001b[0;32m   1932\u001b[0m \u001b[43m    \u001b[49m\u001b[43mdropna\u001b[49m\u001b[38;5;241;43m=\u001b[39;49m\u001b[43mdropna\u001b[49m\u001b[43m,\u001b[49m\n\u001b[0;32m   1933\u001b[0m \u001b[43m\u001b[49m\u001b[43m)\u001b[49m\n",
      "File \u001b[1;32m~\\anaconda3\\lib\\site-packages\\pandas\\core\\groupby\\groupby.py:882\u001b[0m, in \u001b[0;36mGroupBy.__init__\u001b[1;34m(self, obj, keys, axis, level, grouper, exclusions, selection, as_index, sort, group_keys, squeeze, observed, mutated, dropna)\u001b[0m\n\u001b[0;32m    879\u001b[0m \u001b[38;5;28;01mif\u001b[39;00m grouper \u001b[38;5;129;01mis\u001b[39;00m \u001b[38;5;28;01mNone\u001b[39;00m:\n\u001b[0;32m    880\u001b[0m     \u001b[38;5;28;01mfrom\u001b[39;00m \u001b[38;5;21;01mpandas\u001b[39;00m\u001b[38;5;21;01m.\u001b[39;00m\u001b[38;5;21;01mcore\u001b[39;00m\u001b[38;5;21;01m.\u001b[39;00m\u001b[38;5;21;01mgroupby\u001b[39;00m\u001b[38;5;21;01m.\u001b[39;00m\u001b[38;5;21;01mgrouper\u001b[39;00m \u001b[38;5;28;01mimport\u001b[39;00m get_grouper\n\u001b[1;32m--> 882\u001b[0m     grouper, exclusions, obj \u001b[38;5;241m=\u001b[39m \u001b[43mget_grouper\u001b[49m\u001b[43m(\u001b[49m\n\u001b[0;32m    883\u001b[0m \u001b[43m        \u001b[49m\u001b[43mobj\u001b[49m\u001b[43m,\u001b[49m\n\u001b[0;32m    884\u001b[0m \u001b[43m        \u001b[49m\u001b[43mkeys\u001b[49m\u001b[43m,\u001b[49m\n\u001b[0;32m    885\u001b[0m \u001b[43m        \u001b[49m\u001b[43maxis\u001b[49m\u001b[38;5;241;43m=\u001b[39;49m\u001b[43maxis\u001b[49m\u001b[43m,\u001b[49m\n\u001b[0;32m    886\u001b[0m \u001b[43m        \u001b[49m\u001b[43mlevel\u001b[49m\u001b[38;5;241;43m=\u001b[39;49m\u001b[43mlevel\u001b[49m\u001b[43m,\u001b[49m\n\u001b[0;32m    887\u001b[0m \u001b[43m        \u001b[49m\u001b[43msort\u001b[49m\u001b[38;5;241;43m=\u001b[39;49m\u001b[43msort\u001b[49m\u001b[43m,\u001b[49m\n\u001b[0;32m    888\u001b[0m \u001b[43m        \u001b[49m\u001b[43mobserved\u001b[49m\u001b[38;5;241;43m=\u001b[39;49m\u001b[43mobserved\u001b[49m\u001b[43m,\u001b[49m\n\u001b[0;32m    889\u001b[0m \u001b[43m        \u001b[49m\u001b[43mmutated\u001b[49m\u001b[38;5;241;43m=\u001b[39;49m\u001b[38;5;28;43mself\u001b[39;49m\u001b[38;5;241;43m.\u001b[39;49m\u001b[43mmutated\u001b[49m\u001b[43m,\u001b[49m\n\u001b[0;32m    890\u001b[0m \u001b[43m        \u001b[49m\u001b[43mdropna\u001b[49m\u001b[38;5;241;43m=\u001b[39;49m\u001b[38;5;28;43mself\u001b[39;49m\u001b[38;5;241;43m.\u001b[39;49m\u001b[43mdropna\u001b[49m\u001b[43m,\u001b[49m\n\u001b[0;32m    891\u001b[0m \u001b[43m    \u001b[49m\u001b[43m)\u001b[49m\n\u001b[0;32m    893\u001b[0m \u001b[38;5;28mself\u001b[39m\u001b[38;5;241m.\u001b[39mobj \u001b[38;5;241m=\u001b[39m obj\n\u001b[0;32m    894\u001b[0m \u001b[38;5;28mself\u001b[39m\u001b[38;5;241m.\u001b[39maxis \u001b[38;5;241m=\u001b[39m obj\u001b[38;5;241m.\u001b[39m_get_axis_number(axis)\n",
      "File \u001b[1;32m~\\anaconda3\\lib\\site-packages\\pandas\\core\\groupby\\grouper.py:893\u001b[0m, in \u001b[0;36mget_grouper\u001b[1;34m(obj, key, axis, level, sort, observed, mutated, validate, dropna)\u001b[0m\n\u001b[0;32m    888\u001b[0m         in_axis \u001b[38;5;241m=\u001b[39m \u001b[38;5;28;01mFalse\u001b[39;00m\n\u001b[0;32m    890\u001b[0m     \u001b[38;5;66;03m# create the Grouping\u001b[39;00m\n\u001b[0;32m    891\u001b[0m     \u001b[38;5;66;03m# allow us to passing the actual Grouping as the gpr\u001b[39;00m\n\u001b[0;32m    892\u001b[0m     ping \u001b[38;5;241m=\u001b[39m (\n\u001b[1;32m--> 893\u001b[0m         \u001b[43mGrouping\u001b[49m\u001b[43m(\u001b[49m\n\u001b[0;32m    894\u001b[0m \u001b[43m            \u001b[49m\u001b[43mgroup_axis\u001b[49m\u001b[43m,\u001b[49m\n\u001b[0;32m    895\u001b[0m \u001b[43m            \u001b[49m\u001b[43mgpr\u001b[49m\u001b[43m,\u001b[49m\n\u001b[0;32m    896\u001b[0m \u001b[43m            \u001b[49m\u001b[43mobj\u001b[49m\u001b[38;5;241;43m=\u001b[39;49m\u001b[43mobj\u001b[49m\u001b[43m,\u001b[49m\n\u001b[0;32m    897\u001b[0m \u001b[43m            \u001b[49m\u001b[43mlevel\u001b[49m\u001b[38;5;241;43m=\u001b[39;49m\u001b[43mlevel\u001b[49m\u001b[43m,\u001b[49m\n\u001b[0;32m    898\u001b[0m \u001b[43m            \u001b[49m\u001b[43msort\u001b[49m\u001b[38;5;241;43m=\u001b[39;49m\u001b[43msort\u001b[49m\u001b[43m,\u001b[49m\n\u001b[0;32m    899\u001b[0m \u001b[43m            \u001b[49m\u001b[43mobserved\u001b[49m\u001b[38;5;241;43m=\u001b[39;49m\u001b[43mobserved\u001b[49m\u001b[43m,\u001b[49m\n\u001b[0;32m    900\u001b[0m \u001b[43m            \u001b[49m\u001b[43min_axis\u001b[49m\u001b[38;5;241;43m=\u001b[39;49m\u001b[43min_axis\u001b[49m\u001b[43m,\u001b[49m\n\u001b[0;32m    901\u001b[0m \u001b[43m            \u001b[49m\u001b[43mdropna\u001b[49m\u001b[38;5;241;43m=\u001b[39;49m\u001b[43mdropna\u001b[49m\u001b[43m,\u001b[49m\n\u001b[0;32m    902\u001b[0m \u001b[43m        \u001b[49m\u001b[43m)\u001b[49m\n\u001b[0;32m    903\u001b[0m         \u001b[38;5;28;01mif\u001b[39;00m \u001b[38;5;129;01mnot\u001b[39;00m \u001b[38;5;28misinstance\u001b[39m(gpr, Grouping)\n\u001b[0;32m    904\u001b[0m         \u001b[38;5;28;01melse\u001b[39;00m gpr\n\u001b[0;32m    905\u001b[0m     )\n\u001b[0;32m    907\u001b[0m     groupings\u001b[38;5;241m.\u001b[39mappend(ping)\n\u001b[0;32m    909\u001b[0m \u001b[38;5;28;01mif\u001b[39;00m \u001b[38;5;28mlen\u001b[39m(groupings) \u001b[38;5;241m==\u001b[39m \u001b[38;5;241m0\u001b[39m \u001b[38;5;129;01mand\u001b[39;00m \u001b[38;5;28mlen\u001b[39m(obj):\n",
      "File \u001b[1;32m~\\anaconda3\\lib\\site-packages\\pandas\\core\\groupby\\grouper.py:481\u001b[0m, in \u001b[0;36mGrouping.__init__\u001b[1;34m(self, index, grouper, obj, level, sort, observed, in_axis, dropna)\u001b[0m\n\u001b[0;32m    479\u001b[0m \u001b[38;5;28mself\u001b[39m\u001b[38;5;241m.\u001b[39mlevel \u001b[38;5;241m=\u001b[39m level\n\u001b[0;32m    480\u001b[0m \u001b[38;5;28mself\u001b[39m\u001b[38;5;241m.\u001b[39m_orig_grouper \u001b[38;5;241m=\u001b[39m grouper\n\u001b[1;32m--> 481\u001b[0m \u001b[38;5;28mself\u001b[39m\u001b[38;5;241m.\u001b[39mgrouping_vector \u001b[38;5;241m=\u001b[39m \u001b[43m_convert_grouper\u001b[49m\u001b[43m(\u001b[49m\u001b[43mindex\u001b[49m\u001b[43m,\u001b[49m\u001b[43m \u001b[49m\u001b[43mgrouper\u001b[49m\u001b[43m)\u001b[49m\n\u001b[0;32m    482\u001b[0m \u001b[38;5;28mself\u001b[39m\u001b[38;5;241m.\u001b[39m_all_grouper \u001b[38;5;241m=\u001b[39m \u001b[38;5;28;01mNone\u001b[39;00m\n\u001b[0;32m    483\u001b[0m \u001b[38;5;28mself\u001b[39m\u001b[38;5;241m.\u001b[39m_index \u001b[38;5;241m=\u001b[39m index\n",
      "File \u001b[1;32m~\\anaconda3\\lib\\site-packages\\pandas\\core\\groupby\\grouper.py:937\u001b[0m, in \u001b[0;36m_convert_grouper\u001b[1;34m(axis, grouper)\u001b[0m\n\u001b[0;32m    935\u001b[0m \u001b[38;5;28;01melif\u001b[39;00m \u001b[38;5;28misinstance\u001b[39m(grouper, (\u001b[38;5;28mlist\u001b[39m, \u001b[38;5;28mtuple\u001b[39m, Index, Categorical, np\u001b[38;5;241m.\u001b[39mndarray)):\n\u001b[0;32m    936\u001b[0m     \u001b[38;5;28;01mif\u001b[39;00m \u001b[38;5;28mlen\u001b[39m(grouper) \u001b[38;5;241m!=\u001b[39m \u001b[38;5;28mlen\u001b[39m(axis):\n\u001b[1;32m--> 937\u001b[0m         \u001b[38;5;28;01mraise\u001b[39;00m \u001b[38;5;167;01mValueError\u001b[39;00m(\u001b[38;5;124m\"\u001b[39m\u001b[38;5;124mGrouper and axis must be same length\u001b[39m\u001b[38;5;124m\"\u001b[39m)\n\u001b[0;32m    939\u001b[0m     \u001b[38;5;28;01mif\u001b[39;00m \u001b[38;5;28misinstance\u001b[39m(grouper, (\u001b[38;5;28mlist\u001b[39m, \u001b[38;5;28mtuple\u001b[39m)):\n\u001b[0;32m    940\u001b[0m         grouper \u001b[38;5;241m=\u001b[39m com\u001b[38;5;241m.\u001b[39masarray_tuplesafe(grouper)\n",
      "\u001b[1;31mValueError\u001b[0m: Grouper and axis must be same length"
     ]
    }
   ],
   "source": [
    "\n",
    "# With seaborn\n",
    "sns.barplot(x = number_of_open_complaints.index, y=sales_channel.index)"
   ]
  },
  {
   "cell_type": "code",
   "execution_count": null,
   "id": "3a2a37c7",
   "metadata": {},
   "outputs": [],
   "source": [
    "#plot of the response by income."
   ]
  },
  {
   "cell_type": "code",
   "execution_count": 74,
   "id": "7cdc66cf",
   "metadata": {},
   "outputs": [
    {
     "ename": "NameError",
     "evalue": "name 'income' is not defined",
     "output_type": "error",
     "traceback": [
      "\u001b[1;31m---------------------------------------------------------------------------\u001b[0m",
      "\u001b[1;31mNameError\u001b[0m                                 Traceback (most recent call last)",
      "Input \u001b[1;32mIn [74]\u001b[0m, in \u001b[0;36m<cell line: 5>\u001b[1;34m()\u001b[0m\n\u001b[0;32m      1\u001b[0m fig24, ax24 \u001b[38;5;241m=\u001b[39m plt\u001b[38;5;241m.\u001b[39msubplots(\u001b[38;5;241m1\u001b[39m,\u001b[38;5;241m1\u001b[39m)\n\u001b[0;32m      3\u001b[0m \u001b[38;5;66;03m# plot the bar chart\u001b[39;00m\n\u001b[0;32m      4\u001b[0m \u001b[38;5;66;03m# With matplotlib\u001b[39;00m\n\u001b[1;32m----> 5\u001b[0m ax24\u001b[38;5;241m.\u001b[39mbar(x\u001b[38;5;241m=\u001b[39m \u001b[43mincome\u001b[49m\u001b[38;5;241m.\u001b[39mindex, height \u001b[38;5;241m=\u001b[39m income, color \u001b[38;5;241m=\u001b[39m [\u001b[38;5;124m'\u001b[39m\u001b[38;5;124mr\u001b[39m\u001b[38;5;124m'\u001b[39m,\u001b[38;5;124m'\u001b[39m\u001b[38;5;124mg\u001b[39m\u001b[38;5;124m'\u001b[39m,\u001b[38;5;124m\"\u001b[39m\u001b[38;5;124mb\u001b[39m\u001b[38;5;124m\"\u001b[39m])\n",
      "\u001b[1;31mNameError\u001b[0m: name 'income' is not defined"
     ]
    },
    {
     "data": {
      "image/png": "[encoded data removed]",
      "text/plain": [
       "<Figure size 432x288 with 1 Axes>"
      ]
     },
     "metadata": {
      "needs_background": "light"
     },
     "output_type": "display_data"
    }
   ],
   "source": [
    "fig24, ax24 = plt.subplots(1,1)\n",
    "\n",
    "# plot the bar chart\n",
    "# With matplotlib\n",
    "ax24.bar(x= income.index, height = income, color = ['r','g',\"b\"])\n",
    "#ax24[1].bar(x=p_class.index, height = p_class)\n"
   ]
  },
  {
   "cell_type": "code",
   "execution_count": 75,
   "id": "3a46b6c2",
   "metadata": {},
   "outputs": [
    {
     "data": {
      "text/plain": [
       "<AxesSubplot:xlabel='income', ylabel='count'>"
      ]
     },
     "execution_count": 75,
     "metadata": {},
     "output_type": "execute_result"
    },
    {
     "data": {
      "image/png": "[encoded data removed]",
      "text/plain": [
       "<Figure size 432x288 with 1 Axes>"
      ]
     },
     "metadata": {
      "needs_background": "light"
     },
     "output_type": "display_data"
    }
   ],
   "source": [
    "sns.countplot(x = df.income)"
   ]
  },
  {
   "cell_type": "code",
   "execution_count": null,
   "id": "35dc8a77",
   "metadata": {},
   "outputs": [],
   "source": [
    "#(Optional) plot any interesting findings/insights(minimum three) that describe some interesting facts about your data set and its input variables as well as relationships with the target feature."
   ]
  },
  {
   "cell_type": "code",
   "execution_count": 87,
   "id": "07c0159f",
   "metadata": {},
   "outputs": [],
   "source": [
    "numerical_df= df.select_dtypes(include='int64')\n",
    "categoricals_df= df.select_dtypes(include='object')"
   ]
  },
  {
   "cell_type": "code",
   "execution_count": 89,
   "id": "a269dd3a",
   "metadata": {},
   "outputs": [
    {
     "data": {
      "image/png": "[encoded data removed]",
      "text/plain": [
       "<Figure size 1080x864 with 3 Axes>"
      ]
     },
     "metadata": {
      "needs_background": "light"
     },
     "output_type": "display_data"
    }
   ],
   "source": [
    "###-Plot the Correlation Heatmap.(3 wednsday)\n",
    "plt.figure(figsize=(15,12))\n",
    "heatmap=sns.heatmap(numerical_df.corr())\n",
    "heatmap.set_title('Correlation Heatmap', fontdict={'fontsize':20}, pad=30)\n",
    "heatmap = sns.heatmap(numerical_df.corr(),annot_kws={\"size\":18}, vmin=-1, vmax=1, annot= True) \n",
    "plt.savefig('heatmap.png', dpi=300, bbox_inches='tight')"
   ]
  },
  {
   "cell_type": "code",
   "execution_count": null,
   "id": "15c12234",
   "metadata": {},
   "outputs": [],
   "source": []
  }
 ],
 "metadata": {
  "kernelspec": {
   "display_name": "Python 3 (ipykernel)",
   "language": "python",
   "name": "python3"
  },
  "language_info": {
   "codemirror_mode": {
    "name": "ipython",
    "version": 3
   },
   "file_extension": ".py",
   "mimetype": "text/x-python",
   "name": "python",
   "nbconvert_exporter": "python",
   "pygments_lexer": "ipython3",
   "version": "3.9.12"
  }
 },
 "nbformat": 4,
 "nbformat_minor": 5
}
